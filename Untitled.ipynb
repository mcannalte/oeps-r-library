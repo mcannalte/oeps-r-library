{
 "cells": [
  {
   "cell_type": "code",
   "execution_count": 1,
   "id": "59369245",
   "metadata": {},
   "outputs": [
    {
     "name": "stderr",
     "output_type": "stream",
     "text": [
      "Linking to GEOS 3.9.1, GDAL 3.3.0, PROJ 8.0.1\n",
      "\n"
     ]
    }
   ],
   "source": [
    "library(sf,lib.loc = \"/Users/michaelkranz/Documents/oeps_tutorial/r-library/\")"
   ]
  },
  {
   "cell_type": "code",
   "execution_count": null,
   "id": "2ec584cb",
   "metadata": {},
   "outputs": [],
   "source": []
  }
 ],
 "metadata": {
  "kernelspec": {
   "display_name": "r_dev2",
   "language": "R",
   "name": "r_dev2"
  },
  "language_info": {
   "codemirror_mode": "r",
   "file_extension": ".r",
   "mimetype": "text/x-r-source",
   "name": "R",
   "pygments_lexer": "r",
   "version": "4.1.0"
  }
 },
 "nbformat": 4,
 "nbformat_minor": 5
}
